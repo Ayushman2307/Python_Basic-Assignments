{
 "cells": [
  {
   "cell_type": "markdown",
   "id": "9be38f1b-5f84-4b10-9b5e-906ecc4a9c80",
   "metadata": {},
   "source": [
    "1. What does an empty dictionary&#39;s code look like?"
   ]
  },
  {
   "cell_type": "code",
   "execution_count": 1,
   "id": "ef53800a-be6f-4f6e-a368-36cdb43eda21",
   "metadata": {},
   "outputs": [],
   "source": [
    "Dict1={}"
   ]
  },
  {
   "cell_type": "markdown",
   "id": "82bea385-ab4e-470e-b6d0-fb47602fc9e7",
   "metadata": {},
   "source": [
    "2. What is the value of a dictionary value with the key &#39;foo&#39; and the value 42?"
   ]
  },
  {
   "cell_type": "code",
   "execution_count": 16,
   "id": "4dd532d6-a20d-489d-b7db-773314c708ba",
   "metadata": {},
   "outputs": [
    {
     "name": "stdout",
     "output_type": "stream",
     "text": [
      "42\n"
     ]
    }
   ],
   "source": [
    "dict1={'foo':42}\n",
    "#value_of_key= dict1['foo']\n",
    "#print(value_of_key)\n",
    "for v in dict1.values():\n",
    "    print(v)"
   ]
  },
  {
   "cell_type": "markdown",
   "id": "7ce17859-d2d6-49b5-8c94-78b2ed973371",
   "metadata": {},
   "source": [
    "3. What is the most significant distinction between a dictionary and a list?"
   ]
  },
  {
   "cell_type": "markdown",
   "id": "1ce3e1b4-595d-48e6-8ebc-a8e0249203a1",
   "metadata": {},
   "source": [
    "Key Differences:\n",
    "\n",
    "1. Access Method: Dictionaries use keys for access, while lists use indices.\n",
    "2. Order: Lists maintain the order of elements, while dictionaries do not guarantee order.\n",
    "3. Uniqueness: Keys in dictionaries must be unique, whereas lists can contain duplicate elements.\n",
    "4. Use Cases: Choose dictionaries for mapping unique keys to values and lists for ordered collections where elements are accessed by their position."
   ]
  },
  {
   "cell_type": "markdown",
   "id": "cbd40779-f48f-4e33-91de-360c0fe2e90e",
   "metadata": {},
   "source": [
    "4. What happens if you try to access spam[&#39;foo&#39;] if spam is {&#39;bar&#39;: 100}?"
   ]
  },
  {
   "cell_type": "markdown",
   "id": "4979f93c-9615-42fd-844b-e942aee693e6",
   "metadata": {},
   "source": [
    "In Python, when you try to access a key in a dictionary using square brackets ([]), Python looks for that key in the dictionary. If the key is not present in the dictionary, Python raises a KeyError."
   ]
  },
  {
   "cell_type": "markdown",
   "id": "0eed17af-b8ce-4cad-a233-1c9f4876410f",
   "metadata": {},
   "source": [
    "5. If a dictionary is stored in spam, what is the difference between the expressions &#39;cat&#39; in spam and\n",
    "&#39;cat&#39; in spam.keys()?"
   ]
  },
  {
   "cell_type": "code",
   "execution_count": 18,
   "id": "ad260c8a-a03f-4e2a-889f-5b7063dcebb5",
   "metadata": {},
   "outputs": [
    {
     "name": "stdout",
     "output_type": "stream",
     "text": [
      "'cat' exists in spam\n",
      "'cat' exists in spam.keys()\n"
     ]
    }
   ],
   "source": [
    "spam = {'cat': 'pet'}\n",
    "\n",
    "# Check if 'cat' exists in spam directly\n",
    "if 'cat' in spam:      \n",
    "    print(\"'cat' exists in spam\")\n",
    "\n",
    "# Check if 'cat' exists in spam.keys()\n",
    "if 'cat' in spam.keys():\n",
    "    print(\"'cat' exists in spam.keys()\")"
   ]
  },
  {
   "cell_type": "markdown",
   "id": "3067fbb8-5c3a-4d01-9e9e-16e51a1f509d",
   "metadata": {},
   "source": [
    "6. If a dictionary is stored in spam, what is the difference between the expressions &#39;cat&#39; in spam and\n",
    "&#39;cat&#39; in spam.values()?"
   ]
  },
  {
   "cell_type": "code",
   "execution_count": 20,
   "id": "3d81f5ff-a865-45d1-bd21-fb7c196a6cb0",
   "metadata": {},
   "outputs": [
    {
     "name": "stdout",
     "output_type": "stream",
     "text": [
      "'cat' exists in spam\n",
      " cat's value ('pet') exists in spam.values()\n"
     ]
    }
   ],
   "source": [
    "spam = {'cat': 'pet'}\n",
    "\n",
    "# Check if 'cat' exists in spam directly\n",
    "if 'cat' in spam:      \n",
    "    print(\"'cat' exists in spam\")\n",
    "\n",
    "# Check if 'pet' exists in spam.values()\n",
    "if 'pet' in spam.values():\n",
    "    print(\" cat's value ('pet') exists in spam.values()\")"
   ]
  },
  {
   "cell_type": "markdown",
   "id": "25b16f2e-10cb-48a2-b5c4-4c527b2ba1a8",
   "metadata": {},
   "source": [
    "7. What is a shortcut for the following code?\n",
    "if &#39;color&#39; not in spam:\n",
    "spam[&#39;color&#39;] = &#39;black&#39;"
   ]
  },
  {
   "cell_type": "code",
   "execution_count": 3,
   "id": "6d79f1a8-29c0-4486-8376-6dde95abc4d6",
   "metadata": {},
   "outputs": [
    {
     "data": {
      "text/plain": [
       "'black'"
      ]
     },
     "execution_count": 3,
     "metadata": {},
     "output_type": "execute_result"
    }
   ],
   "source": [
    "spam={'red':'blue'}\n",
    "if'color' not in spam:\n",
    "    spam['color']='black'\n",
    "spam.setdefault('color', 'black')"
   ]
  },
  {
   "cell_type": "markdown",
   "id": "64fb9592-38ca-458e-b0ba-a545d5876843",
   "metadata": {},
   "source": [
    "8. How do you &quot;pretty print&quot; dictionary values using which module and function?"
   ]
  },
  {
   "cell_type": "markdown",
   "id": "3cd87600-541d-40ec-9bfd-85aee761d5fc",
   "metadata": {},
   "source": [
    "You can \"pretty print\" dictionary values in Python using the pprint module and its pprint() function."
   ]
  },
  {
   "cell_type": "code",
   "execution_count": 4,
   "id": "c6b6b965-6a88-464d-a866-e45cd73dd958",
   "metadata": {},
   "outputs": [
    {
     "name": "stdout",
     "output_type": "stream",
     "text": [
      "{'age': 30, 'city': 'New York', 'name': 'John'}\n"
     ]
    }
   ],
   "source": [
    "import pprint\n",
    "\n",
    "my_dict = {'name': 'John', 'age': 30, 'city': 'New York'}\n",
    "\n",
    "pprint.pprint(my_dict)"
   ]
  },
  {
   "cell_type": "code",
   "execution_count": null,
   "id": "4338694d-e998-4380-a0db-954924949e9a",
   "metadata": {},
   "outputs": [],
   "source": []
  }
 ],
 "metadata": {
  "kernelspec": {
   "display_name": "Python 3 (ipykernel)",
   "language": "python",
   "name": "python3"
  },
  "language_info": {
   "codemirror_mode": {
    "name": "ipython",
    "version": 3
   },
   "file_extension": ".py",
   "mimetype": "text/x-python",
   "name": "python",
   "nbconvert_exporter": "python",
   "pygments_lexer": "ipython3",
   "version": "3.11.7"
  }
 },
 "nbformat": 4,
 "nbformat_minor": 5
}
