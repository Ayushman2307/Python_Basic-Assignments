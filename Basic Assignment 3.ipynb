{
 "cells": [
  {
   "cell_type": "markdown",
   "id": "9d01713f-9e7a-4b4c-96fa-cceb3626e92a",
   "metadata": {},
   "source": [
    "1. Why are functions advantageous to have in your programs?"
   ]
  },
  {
   "cell_type": "markdown",
   "id": "af4a1a6d-3283-4520-970b-320ae7a29384",
   "metadata": {},
   "source": [
    "Functions provide several advantages in programming, which contribute to better code organization, reusability, and maintainability. Here are the key advantages of using functions in your programs:\n",
    "\n",
    "1. Modularity and Code Organization:\n",
    "\n",
    "2. Code Reusability:\n",
    "\n",
    "3. Abstraction and Encapsulation:\n",
    "\n",
    "4. Improved Readability:\n",
    "\n",
    "5. Simplification of Complex Problems:\n",
    "\n",
    "6. Ease of Testing and Debugging:\n",
    "\n",
    "7. Scoping and Namespace Management:\n"
   ]
  },
  {
   "cell_type": "markdown",
   "id": "7a8f229a-c998-414b-b131-4f08792df4f1",
   "metadata": {},
   "source": [
    "2. When does the code in a function run: when it&#39;s specified or when it&#39;s called?"
   ]
  },
  {
   "cell_type": "markdown",
   "id": "1d1c0585-8d5d-4350-93fb-7966a0be6427",
   "metadata": {},
   "source": [
    "In Python, the code in a function runs when the function is called, not when it is specified or defined."
   ]
  },
  {
   "cell_type": "markdown",
   "id": "61dd1fa3-6231-4f48-80bd-e8c3171891bf",
   "metadata": {},
   "source": [
    "3. What statement creates a function?"
   ]
  },
  {
   "cell_type": "markdown",
   "id": "b414ee68-2673-44fe-b535-032202d8bbfe",
   "metadata": {},
   "source": [
    "In Python, the statement that creates a function is the def statement."
   ]
  },
  {
   "cell_type": "markdown",
   "id": "d1218c8b-8544-4f30-9f6d-4a3d0231c093",
   "metadata": {},
   "source": [
    "4. What is the difference between a function and a function call?"
   ]
  },
  {
   "cell_type": "markdown",
   "id": "ccf50db5-28d5-4466-ae68-1f9a79e4711d",
   "metadata": {},
   "source": [
    "Function:\n",
    "A function is a named block of code that performs a specific task or operation.\n",
    "\n",
    "Function Call:\n",
    "A function call or invocation is the process of executing a function to perform its defined task."
   ]
  },
  {
   "cell_type": "markdown",
   "id": "ff13f1e6-f5f0-4bf7-a9a5-09152844edaa",
   "metadata": {},
   "source": [
    "5. How many global scopes are there in a Python program? How many local scopes?"
   ]
  },
  {
   "cell_type": "markdown",
   "id": "e0b4f035-ad53-4399-b52f-ae603b1e89f2",
   "metadata": {},
   "source": [
    "In Python, there is typically one global scope and multiple local scopes."
   ]
  },
  {
   "cell_type": "markdown",
   "id": "ef40e661-24c8-4128-aa05-70779c8f0933",
   "metadata": {},
   "source": [
    "6. What happens to variables in a local scope when the function call returns?"
   ]
  },
  {
   "cell_type": "markdown",
   "id": "f570d84f-4184-4b41-8edc-6d805053565b",
   "metadata": {},
   "source": [
    "In Python, variables defined within a local scope exist only for the duration of that function's execution. When the function call returns, the local variables are destroyed, and their memory space is reclaimed by Python."
   ]
  },
  {
   "cell_type": "markdown",
   "id": "394baa75-787b-4463-b2df-fa8bb9a64da7",
   "metadata": {},
   "source": [
    "7. What is the concept of a return value? Is it possible to have a return value in an expression?"
   ]
  },
  {
   "cell_type": "markdown",
   "id": "721939c8-7170-4ab9-94da-43601042c106",
   "metadata": {},
   "source": [
    "In Python, a return value refers to the value that a function evaluates to and returns to its caller when it completes execution. When a function is invoked, it may perform calculations, manipulate data, or perform other operations. The result of these operations can be sent back to the caller using the return statement.\n",
    "\n",
    "Yes it is possible to have a return value in an expression."
   ]
  },
  {
   "cell_type": "markdown",
   "id": "aa7e23aa-220b-4508-9e17-4cd84a7a3985",
   "metadata": {},
   "source": [
    "8. If a function does not have a return statement, what is the return value of a call to that function?"
   ]
  },
  {
   "cell_type": "markdown",
   "id": "54d9faad-7334-4ce3-ab96-9db1c053a704",
   "metadata": {},
   "source": [
    "If a function in Python does not have a return statement, or if it reaches the end of the function without encountering a return statement, the function automatically returns None."
   ]
  },
  {
   "cell_type": "markdown",
   "id": "d9dd389e-3146-414a-af40-622d7ad443b6",
   "metadata": {},
   "source": [
    "9. How do you make a function variable refer to the global variable?"
   ]
  },
  {
   "cell_type": "markdown",
   "id": "4b3c61da-7250-47e7-9a6c-fc0d0f963ae2",
   "metadata": {},
   "source": [
    "In Python, if you want to access or modify a global variable from within a function, you can use the global keyword to explicitly declare that the variable is referring to the global scope."
   ]
  },
  {
   "cell_type": "markdown",
   "id": "77325728-b9bb-4c20-a285-4b531b261fd5",
   "metadata": {},
   "source": [
    "10. What is the data type of None?"
   ]
  },
  {
   "cell_type": "markdown",
   "id": "7a18d5be-d004-4796-933e-9d583577e957",
   "metadata": {},
   "source": [
    "The data type of None is NoneType."
   ]
  },
  {
   "cell_type": "markdown",
   "id": "48fc3e61-e711-41fb-9102-ccf7e2882e52",
   "metadata": {},
   "source": [
    "11. What does the sentence import areallyourpetsnamederic do?"
   ]
  },
  {
   "cell_type": "markdown",
   "id": "a317c0b0-17d5-4930-ad8b-ddf342a913e9",
   "metadata": {},
   "source": [
    "The sentence import areallyourpetsnamederic does not follow the typical structure of a valid Python import statement."
   ]
  },
  {
   "cell_type": "markdown",
   "id": "525b0718-66ce-4792-8ad0-6cd65e1f11f8",
   "metadata": {},
   "source": [
    "12. If you had a bacon() feature in a spam module, what would you call it after importing spam?"
   ]
  },
  {
   "cell_type": "markdown",
   "id": "a803f97e-1d79-4f72-8d78-fc618444e3f9",
   "metadata": {},
   "source": [
    "Once the module spam is imported, i can call the bacon() function using the dot notation (spam.bacon())."
   ]
  },
  {
   "cell_type": "markdown",
   "id": "cace110b-cbb6-473b-95ee-beedf9709617",
   "metadata": {},
   "source": [
    "13. What can you do to save a programme from crashing if it encounters an error?"
   ]
  },
  {
   "cell_type": "markdown",
   "id": "ea60bdcd-f00d-4147-a612-a3baf6aa8e1b",
   "metadata": {},
   "source": [
    "To prevent a program from crashing when it encounters an error, you can use error handling techniques in Python, particularly the try-except block.\n",
    "\n",
    "Explanation:\n",
    "1. try: The try block contains the code where you anticipate an error might occur.\n",
    "2. except: If an exception occurs within the try block, Python looks for a matching except block. You can have multiple except blocks to handle different types of exceptions.\n",
    "3. else (optional): Executes if no exceptions are raised in the try block.\n",
    "4. finally (optional): Always executes, regardless of whether an exception occurred or not. It's typically used for cleanup actions (e.g., closing files).\n",
    "5. Exception as e: This catches all exceptions that are subclasses of Python's built-in Exception class. It's a general way to catch any unexpected errors."
   ]
  },
  {
   "cell_type": "markdown",
   "id": "f38c109d-0a7b-45a0-a5d3-0ae470fa98ac",
   "metadata": {},
   "source": [
    "14. What is the purpose of the try clause? What is the purpose of the except clause?"
   ]
  },
  {
   "cell_type": "markdown",
   "id": "6a50ad8d-657b-405c-914f-3121e97eda13",
   "metadata": {},
   "source": [
    "In Python's error handling mechanism, the try and except clauses serve distinct purposes:\n",
    "\n",
    "1. Purpose of the try clause:\n",
    "\n",
    "The try clause is used to enclose the code that you anticipate might raise an exception. Its primary purpose is to define a block of code where exceptions (errors) might occur, allowing you to handle these exceptions gracefully without the program crashing.\n",
    "\n",
    "2. Purpose of the except clause:\n",
    "\n",
    "The except clause is used to specify how to handle exceptions that occur within the corresponding try block. After a try block, you can have one or more except blocks to catch and handle specific types of exceptions. If an exception of the specified type occurs in the try block, control is passed to the corresponding except block."
   ]
  }
 ],
 "metadata": {
  "kernelspec": {
   "display_name": "Python 3 (ipykernel)",
   "language": "python",
   "name": "python3"
  },
  "language_info": {
   "codemirror_mode": {
    "name": "ipython",
    "version": 3
   },
   "file_extension": ".py",
   "mimetype": "text/x-python",
   "name": "python",
   "nbconvert_exporter": "python",
   "pygments_lexer": "ipython3",
   "version": "3.11.7"
  }
 },
 "nbformat": 4,
 "nbformat_minor": 5
}
