{
 "cells": [
  {
   "cell_type": "markdown",
   "id": "e376be42-8937-4f83-a1e0-d8ddffe15bf0",
   "metadata": {},
   "source": [
    "1. What exactly is []?"
   ]
  },
  {
   "cell_type": "markdown",
   "id": "803c669c-f252-4522-be9a-5fe17f2d841a",
   "metadata": {},
   "source": [
    "In Python, [] represents an empty list."
   ]
  },
  {
   "cell_type": "markdown",
   "id": "df8ee4bb-a981-4853-9cc5-db67386f0319",
   "metadata": {},
   "source": [
    "2. In a list of values stored in a variable called spam, how would you assign the value &#39;hello&#39; as the\n",
    "third value? (Assume [2, 4, 6, 8, 10] are in spam.)"
   ]
  },
  {
   "cell_type": "code",
   "execution_count": 1,
   "id": "055c7583-407f-4f7e-b9e2-6595488825a1",
   "metadata": {},
   "outputs": [
    {
     "name": "stdout",
     "output_type": "stream",
     "text": [
      "[2, 4, 'hello', 8, 10]\n"
     ]
    }
   ],
   "source": [
    "spam=[2,4,6,8,10]\n",
    "spam[2] = 'hello'\n",
    "\n",
    "print(spam)"
   ]
  },
  {
   "cell_type": "markdown",
   "id": "f5a28122-f06a-499b-a5a4-34f5b330d127",
   "metadata": {},
   "source": [
    "3. What is the value of spam[int(int(&#39;3&#39; * 2) / 11)]?"
   ]
  },
  {
   "cell_type": "code",
   "execution_count": 7,
   "id": "cb8b8130-0e1d-4227-b561-54f61bc94636",
   "metadata": {},
   "outputs": [
    {
     "name": "stdout",
     "output_type": "stream",
     "text": [
      "d\n"
     ]
    }
   ],
   "source": [
    "spam=['a','b','c','d']\n",
    "print(spam[int(int('3'*2)/11)])      #  HERE , The value of spam is d which is [3]"
   ]
  },
  {
   "cell_type": "markdown",
   "id": "f44168a1-6597-4936-aa8d-9567f0500275",
   "metadata": {},
   "source": [
    "4. What is the value of spam[-1]?"
   ]
  },
  {
   "cell_type": "code",
   "execution_count": 8,
   "id": "6ea40ccb-e97c-4228-83cf-59a3520aca33",
   "metadata": {},
   "outputs": [
    {
     "data": {
      "text/plain": [
       "'d'"
      ]
     },
     "execution_count": 8,
     "metadata": {},
     "output_type": "execute_result"
    }
   ],
   "source": [
    "spam[-1]         #  HERE , The value of spam is d "
   ]
  },
  {
   "cell_type": "markdown",
   "id": "13c37fbb-3b47-4361-a6b9-c6a6433885c3",
   "metadata": {},
   "source": [
    "5. What is the value of spam[:2]?"
   ]
  },
  {
   "cell_type": "code",
   "execution_count": 9,
   "id": "71ec35d7-1078-478b-8279-d377a49a1c5a",
   "metadata": {},
   "outputs": [
    {
     "data": {
      "text/plain": [
       "['a', 'b']"
      ]
     },
     "execution_count": 9,
     "metadata": {},
     "output_type": "execute_result"
    }
   ],
   "source": [
    "spam[:2]         #  HERE , The value of spam is ['a','b']"
   ]
  },
  {
   "cell_type": "markdown",
   "id": "e8d2bf34-0bfe-47be-8804-bafde7721dc7",
   "metadata": {},
   "source": [
    "6. What is the value of bacon.index(&#39;cat&#39;)?"
   ]
  },
  {
   "cell_type": "code",
   "execution_count": 24,
   "id": "4564ba86-6312-4d19-ae7d-51485685c5f3",
   "metadata": {},
   "outputs": [
    {
     "data": {
      "text/plain": [
       "1"
      ]
     },
     "execution_count": 24,
     "metadata": {},
     "output_type": "execute_result"
    }
   ],
   "source": [
    "bacon=[3.14,'cat',11,'cat',True]\n",
    "\n",
    "bacon.index('cat')                 # HERE , Index value of 'cat' is [1]"
   ]
  },
  {
   "cell_type": "markdown",
   "id": "285725ac-af5e-4808-b5da-2bff048fc63e",
   "metadata": {},
   "source": [
    "7. How does bacon.append(99) change the look of the list value in bacon?"
   ]
  },
  {
   "cell_type": "code",
   "execution_count": 30,
   "id": "f4891d73-688a-4452-a12e-72a32b79f287",
   "metadata": {},
   "outputs": [
    {
     "data": {
      "text/plain": [
       "[3.14, 'cat', 11, 'cat', True, 99]"
      ]
     },
     "execution_count": 30,
     "metadata": {},
     "output_type": "execute_result"
    }
   ],
   "source": [
    "bacon=[3.14,'cat',11,'cat',True]\n",
    "bacon.append(99)                 # The changed look of the list value in bacon:\n",
    "bacon                            #[3.14, 'cat', 11, 'cat', True, 99]"
   ]
  },
  {
   "cell_type": "markdown",
   "id": "b6d5144a-0168-4331-a6ff-6b5b0e9e9655",
   "metadata": {},
   "source": [
    "8. How does bacon.remove(&#39;cat&#39;) change the look of the list in bacon?"
   ]
  },
  {
   "cell_type": "code",
   "execution_count": 31,
   "id": "ea70cbb6-6d62-4a98-972e-a488832f4804",
   "metadata": {},
   "outputs": [
    {
     "data": {
      "text/plain": [
       "[3.14, 11, 'cat', True, 99]"
      ]
     },
     "execution_count": 31,
     "metadata": {},
     "output_type": "execute_result"
    }
   ],
   "source": [
    "bacon.remove('cat')      # The changed look of the list value in bacon:\n",
    "bacon                    #[3.14, 11, 'cat', True, 99]"
   ]
  },
  {
   "cell_type": "markdown",
   "id": "5c4f7d3f-59db-45ac-bdf0-0d7e0433afce",
   "metadata": {},
   "source": [
    "9. What are the list concatenation and list replication operators?"
   ]
  },
  {
   "cell_type": "markdown",
   "id": "5877a42d-0ac1-49f2-aaa3-7b1a0d6ac455",
   "metadata": {},
   "source": [
    "In Python, lists support concatenation and replication using the + operator for concatenation, and the * operator for replication."
   ]
  },
  {
   "cell_type": "markdown",
   "id": "70d34b42-4ace-4383-a765-f85e41985a79",
   "metadata": {},
   "source": [
    "10. What is difference between the list methods append() and insert()?"
   ]
  },
  {
   "cell_type": "markdown",
   "id": "53525952-a492-40c4-aa51-d72d1dffb9c6",
   "metadata": {},
   "source": [
    "In Python, both append() and insert() are methods that can be used to modify lists, but they differ in how they add elements to the list:\n",
    "\n",
    "append() Method:\n",
    "Syntax: list.append(element)\n",
    "Purpose: Adds a single element to the end of the list.\n",
    "\n",
    "insert() Method:\n",
    "Syntax: list.insert(index, element)\n",
    "Purpose: Inserts a single element into the list at a specified index."
   ]
  },
  {
   "cell_type": "markdown",
   "id": "986b3b4b-9093-475e-9054-820d2c10f7ea",
   "metadata": {},
   "source": [
    "11. What are the two methods for removing items from a list?"
   ]
  },
  {
   "cell_type": "markdown",
   "id": "b269ece0-36da-4b4a-9288-9cadce1b00cb",
   "metadata": {},
   "source": [
    "In Python, there are two primary methods for removing items from a list:\n",
    "1. remove()\n",
    "2. pop()."
   ]
  },
  {
   "cell_type": "markdown",
   "id": "046d8ed6-a395-4746-97bb-0b33e2f54236",
   "metadata": {},
   "source": [
    "12. Describe how list values and string values are identical."
   ]
  },
  {
   "cell_type": "markdown",
   "id": "0e016128-78b8-42f3-9972-082fe49343d5",
   "metadata": {},
   "source": [
    "In Python, lists and strings share several similarities, but they are fundamentally different data types with distinct behaviors and characteristics.\n",
    "\n",
    "Similarities between List Values and String Values:\n",
    "\n",
    "1. Sequential Collection of Elements:\n",
    "\n",
    ". Both lists and strings are sequential collections of elements.\n",
    ". Lists: Contain elements of any data type (integers, strings, other lists, etc.) enclosed in square brackets ([]).\n",
    ". Strings: Contain characters enclosed in single quotes (' '), double quotes (\" \"), or triple quotes (\"\"\" \"\"\").\n",
    "\n",
    "2. Indexing and Slicing:\n",
    "\n",
    ". Both lists and strings support indexing and slicing operations to access individual elements or subsequences.\n",
    ". Indexing: Allows you to access specific elements by their position in the sequence using square brackets ([]).\n",
    ". Slicing: Allows you to create new sequences by specifying a range of indices using the syntax [start:end:step].\n",
    "\n",
    "3. Immutable vs Mutable:\n",
    "\n",
    ". Strings: Are immutable, meaning once they are created, their contents cannot be changed. You can create new strings based on existing ones, but you cannot modify the original string in place.\n",
    ". Lists: Are mutable, meaning you can modify their contents after they are created. Elements can be added, removed, or modified within the list.\n",
    "\n",
    "4. Iteration:\n",
    "\n",
    ". Both lists and strings can be iterated over using loops (e.g., for loops) to process each element or character sequentially."
   ]
  },
  {
   "cell_type": "markdown",
   "id": "716d7071-1e3f-442a-a071-cc060a872647",
   "metadata": {},
   "source": [
    "13. What&#39;s the difference between tuples and lists?"
   ]
  },
  {
   "cell_type": "markdown",
   "id": "5669b852-4011-4790-8440-c183d4954ee4",
   "metadata": {},
   "source": [
    "Tuples and lists are both common data structures in Python, but they have several key differences in terms of their characteristics, usage, and behavior:\n",
    "\n",
    "Differences Between Tuples and Lists:\n",
    "\n",
    "1. Mutability:\n",
    "\n",
    ". Lists: Lists are mutable, meaning you can change, add, or remove elements after the list is created.\n",
    ". Tuples: Tuples are immutable, meaning once they are created, their elements cannot be changed, added, or removed.\n",
    "\n",
    "2. Syntax:\n",
    "\n",
    ". Lists: Defined using square brackets [ ].\n",
    ". Tuples: Defined using parentheses ( ).\n",
    "\n",
    "3. Usage:\n",
    "\n",
    ". Lists: Use lists when you have a collection of items that may need to be modified, such as adding or removing elements dynamically.\n",
    ". Tuples: Use tuples for heterogeneous data (data of different types) that should be treated as a single entity, like coordinates (x, y) or records from a database.\n",
    "\n",
    "4. Performance:\n",
    "\n",
    ". Tuples: Tuples are generally faster than lists for iterating over because they are immutable.\n",
    ". Lists: Lists are more flexible and are optimized for variable-length collections.\n",
    "                                                  \n",
    "5. Typical Use Cases:\n",
    "\n",
    ". Lists: Used for sequences of items where the order and manipulation of items are important, such as managing collections of similar items or maintaining a dynamic list of elements.\n",
    ". Tuples: Used for fixed collections of elements where immutability is desired, such as returning multiple values from a function or representing fixed data structures like coordinates, configurations, or database records."
   ]
  },
  {
   "cell_type": "markdown",
   "id": "3a7748f7-46ee-4768-93d3-20cf303ff701",
   "metadata": {},
   "source": [
    "14. How do you type a tuple value that only contains the integer 42?"
   ]
  },
  {
   "cell_type": "code",
   "execution_count": 36,
   "id": "add3d6b2-3d91-44f5-b533-1202f11e72c1",
   "metadata": {},
   "outputs": [
    {
     "data": {
      "text/plain": [
       "tuple"
      ]
     },
     "execution_count": 36,
     "metadata": {},
     "output_type": "execute_result"
    }
   ],
   "source": [
    "tupl=(42,)\n",
    "type(tupl)"
   ]
  },
  {
   "cell_type": "markdown",
   "id": "a42d183c-1030-4fa3-8f74-95d5f735bf88",
   "metadata": {},
   "source": [
    "15. How do you get a list value&#39;s tuple form? How do you get a tuple value&#39;s list form?"
   ]
  },
  {
   "cell_type": "code",
   "execution_count": 37,
   "id": "2796950b-d64e-4672-8d29-f517b49518f9",
   "metadata": {},
   "outputs": [
    {
     "name": "stdout",
     "output_type": "stream",
     "text": [
      "(1, 2, 3, 4)\n",
      "[1, 2, 3, 4]\n"
     ]
    }
   ],
   "source": [
    "'''Converting a List to a Tuple:\n",
    "\n",
    "To convert a list to a tuple, use the tuple() function.\n",
    "Here's an example:'''\n",
    "\n",
    "my_list = [1, 2, 3, 4]\n",
    "my_tuple = tuple(my_list)\n",
    "print(my_tuple)  # Output: (1, 2, 3, 4)\n",
    "\n",
    "'''Converting a Tuple to a List:\n",
    "\n",
    "To convert a tuple to a list, use the list() function.\n",
    "Here's an example:'''\n",
    "\n",
    "my_tuple = (1, 2, 3, 4)\n",
    "my_list = list(my_tuple)\n",
    "print(my_list)  # Output: [1, 2, 3, 4]"
   ]
  },
  {
   "cell_type": "markdown",
   "id": "b6b9d1c0-4044-4cc3-92f0-cce25ac3b02e",
   "metadata": {},
   "source": [
    "16. Variables that &quot;contain&quot; list values are not necessarily lists themselves. Instead, what do they\n",
    "contain?"
   ]
  },
  {
   "cell_type": "markdown",
   "id": "d916e4de-938d-4cb7-a7fa-b7a676bad8ac",
   "metadata": {},
   "source": [
    "In Python, variables that \"contain\" list values are not lists themselves; rather, they contain references to list objects. This distinction is important to understand how variables and objects interact in Python's memory model:"
   ]
  },
  {
   "cell_type": "markdown",
   "id": "fb278b23-2204-4cb9-8cec-8a600abccfe3",
   "metadata": {},
   "source": [
    "17. How do you distinguish between copy.copy() and copy.deepcopy()?"
   ]
  },
  {
   "cell_type": "markdown",
   "id": "cac3abbb-db93-437a-b5b5-e6225a28d32b",
   "metadata": {},
   "source": [
    "In Python's copy module, copy.copy() and copy.deepcopy() are used to create shallow and deep copies of objects, respectively.\n",
    "\n",
    "1. copy.copy()\n",
    "   Shallow Copy:\n",
    "\n",
    ". Creates a new object but inserts references into it to the objects found in the original.\n",
    ". Only copies the top-level structure of the object.\n",
    ". If the object contains nested objects (e.g., lists within lists), it copies only the references to those nested objects, not the nested objects themselves.\n",
    "\n",
    "2. copy.deepcopy()\n",
    "   Deep Copy:\n",
    "\n",
    ". Creates a new object and recursively copies all objects found in the original, creating a fully independent copy of the original object and all of its nested objects.\n",
    ". Copies both the top-level structure and all nested objects."
   ]
  }
 ],
 "metadata": {
  "kernelspec": {
   "display_name": "Python 3 (ipykernel)",
   "language": "python",
   "name": "python3"
  },
  "language_info": {
   "codemirror_mode": {
    "name": "ipython",
    "version": 3
   },
   "file_extension": ".py",
   "mimetype": "text/x-python",
   "name": "python",
   "nbconvert_exporter": "python",
   "pygments_lexer": "ipython3",
   "version": "3.11.7"
  }
 },
 "nbformat": 4,
 "nbformat_minor": 5
}
