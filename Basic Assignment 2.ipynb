{
 "cells": [
  {
   "cell_type": "markdown",
   "id": "ea2c2cfa-f554-4e6d-8595-0d1584b7d1f9",
   "metadata": {},
   "source": [
    "1.What are the two values of the Boolean data type? How do you write them?"
   ]
  },
  {
   "cell_type": "markdown",
   "id": "c77a09f4-ca89-44cb-bef6-c076846eef06",
   "metadata": {},
   "source": [
    "The two values of the Boolean data type are,\n",
    "1. True\n",
    "2. False\n",
    "\n",
    "In Python, these values are written as True and False  first letter of these values are capital."
   ]
  },
  {
   "cell_type": "markdown",
   "id": "36b957a4-4b14-4dff-999f-2884e97ecca4",
   "metadata": {},
   "source": [
    "2. What are the three different types of Boolean operators?"
   ]
  },
  {
   "cell_type": "markdown",
   "id": "1f0e6028-ab67-4cee-bfc2-6e5bbbbe5e73",
   "metadata": {},
   "source": [
    "The three different types of Boolean operators are,\n",
    "1. AND\n",
    "2. OR\n",
    "3. NOT"
   ]
  },
  {
   "cell_type": "markdown",
   "id": "dc9d8ddb-e467-41ee-8fce-a324d28139bc",
   "metadata": {},
   "source": [
    "3. Make a list of each Boolean operator&#39;s truth tables (i.e. every possible combination of Boolean\n",
    "values for the operator and what it evaluate )."
   ]
  },
  {
   "cell_type": "markdown",
   "id": "986612e5-9db8-4b7a-9b10-677ca36bc1e8",
   "metadata": {},
   "source": [
    "The truth tables for each Boolean operator in Python:\n",
    "\n",
    "AND (and)\n",
    "                \n",
    "Operand 1\tOperand 2\tResult (operand1 and operand2)\n",
    "True\t      True\t      True\n",
    "True\t      False\t      False\n",
    "False\t      True\t      False\n",
    "False\t      False\t      False\n",
    "                \n",
    "OR (or)\n",
    "                \n",
    "Operand 1\tOperand 2\tResult (operand1 or operand2)\n",
    "True\t      True\t      True\n",
    "True\t      False\t      True\n",
    "False\t      True\t      True\n",
    "False\t      False\t      False\n",
    "                \n",
    "NOT (not)\n",
    "     \n",
    "Operand\t  Result (not operand)\n",
    "True\t  False\n",
    "False     True"
   ]
  },
  {
   "cell_type": "markdown",
   "id": "58b08f1f-3666-4b0c-aeda-1a0a46b58370",
   "metadata": {},
   "source": [
    "4. What are the values of the following expressions?"
   ]
  },
  {
   "cell_type": "code",
   "execution_count": 7,
   "id": "babfbcc3-1197-46d4-b270-9e1c7a8a25c8",
   "metadata": {},
   "outputs": [
    {
     "name": "stdout",
     "output_type": "stream",
     "text": [
      "False\n",
      "False\n",
      "True\n",
      "False\n",
      "False\n",
      "True\n"
     ]
    }
   ],
   "source": [
    "print((5 > 4) and (3 == 5))\n",
    "print(not (5 > 4))\n",
    "print((5 > 4) or (3 == 5))\n",
    "print(not ((5 > 4) or (3 == 5)))\n",
    "print((True and True) and (True == False))\n",
    "print((not False) or (not True))"
   ]
  },
  {
   "cell_type": "markdown",
   "id": "2096b744-1496-42a0-8204-59109c15518f",
   "metadata": {},
   "source": [
    "5. What are the six comparison operators?"
   ]
  },
  {
   "cell_type": "markdown",
   "id": "07e78cfb-389d-4920-89b7-a6c4a574c10f",
   "metadata": {},
   "source": [
    "The six comparison operators are following,\n",
    "\n",
    "1. Equal to (==):\n",
    "\n",
    "2. Not equal to (!=):\n",
    "\n",
    "3. Greater than (>):\n",
    "\n",
    "4. Less than (<):\n",
    "\n",
    "5. Greater than or equal to (>=):\n",
    "\n",
    "6. Less than or equal to (<=):"
   ]
  },
  {
   "cell_type": "markdown",
   "id": "34b8dc78-b038-462a-a2cd-1e337df37f66",
   "metadata": {},
   "source": [
    "6. How do you tell the difference between the equal to and assignment operators?Describe a\n",
    "condition and when you would use one."
   ]
  },
  {
   "cell_type": "markdown",
   "id": "7cffa273-e754-4c40-847b-9b4f69350491",
   "metadata": {},
   "source": [
    ". The equal to (==) operator is used to compare two values to determine if they are equal.\n",
    "\n",
    ". The assignment (=) operator is used to assign a value to a variable."
   ]
  },
  {
   "cell_type": "code",
   "execution_count": 10,
   "id": "8ef6701c-4dc6-403c-ad5b-6e4df940a53d",
   "metadata": {},
   "outputs": [
    {
     "name": "stdout",
     "output_type": "stream",
     "text": [
      "x and y are not equal\n"
     ]
    }
   ],
   "source": [
    "x = 10\n",
    "y = 100\n",
    "\n",
    "if x == y:\n",
    "    print(\"x and y are equal\")\n",
    "else:\n",
    "    print(\"x and y are not equal\")"
   ]
  },
  {
   "cell_type": "markdown",
   "id": "98b6ae1d-dca5-4eb7-814f-6cb6e5847e73",
   "metadata": {},
   "source": [
    "7. Identify the three blocks in this code:"
   ]
  },
  {
   "cell_type": "code",
   "execution_count": 14,
   "id": "3ce7e40b-7a4b-48d1-bdd1-09bf042d446e",
   "metadata": {},
   "outputs": [
    {
     "name": "stdout",
     "output_type": "stream",
     "text": [
      "bacon\n",
      "spam\n",
      "spam\n"
     ]
    }
   ],
   "source": [
    "spam = 6\n",
    "if spam == 10:\n",
    "    print(\"eggs\")        #Block 1\n",
    "if spam > 5:\n",
    "    print(\"bacon\")       #Block 2\n",
    "else:\n",
    "    print(\"hen\")         #Block 3\n",
    "print(\"spam\")\n",
    "print(\"spam\")"
   ]
  },
  {
   "cell_type": "markdown",
   "id": "7a52c9a4-11f8-46e4-a7c1-bb9436b5933c",
   "metadata": {},
   "source": [
    "8. Write code that prints Hello if 1 is stored in spam, prints Howdy if 2 is stored in spam, and prints\n",
    "Greetings! if anything else is stored in spam."
   ]
  },
  {
   "cell_type": "code",
   "execution_count": 22,
   "id": "5e64a677-991a-4819-a929-2eec6c4f5732",
   "metadata": {},
   "outputs": [
    {
     "name": "stdout",
     "output_type": "stream",
     "text": [
      "Greetings!\n"
     ]
    }
   ],
   "source": [
    "spam = 3\n",
    "\n",
    "if spam == 1:\n",
    "    print(\"Hello\")\n",
    "\n",
    "elif spam == 2:\n",
    "    print(\"Howdy\")\n",
    "\n",
    "else:\n",
    "    print(\"Greetings!\")"
   ]
  },
  {
   "cell_type": "markdown",
   "id": "c855c0f3-69b1-411f-9f51-5aba584dd2b7",
   "metadata": {},
   "source": [
    "9.If your programme is stuck in an endless loop, what keys you’ll press?"
   ]
  },
  {
   "cell_type": "markdown",
   "id": "ac0ef438-afe8-43a0-9f56-8d6e2809c355",
   "metadata": {},
   "source": [
    "I will press the Interrupt the kernel option in IDEs,\n",
    "OR press : Control + C , Control + Break and Control + *"
   ]
  },
  {
   "cell_type": "markdown",
   "id": "68a14f2d-e2a6-4221-a943-e810f8f2401f",
   "metadata": {},
   "source": [
    "10. How can you tell the difference between break and continue?"
   ]
  },
  {
   "cell_type": "markdown",
   "id": "4521ade3-b4c3-44a5-8ba4-b50cfe5f171b",
   "metadata": {},
   "source": [
    "break Statement:\n",
    "\n",
    ". The break statement is used to terminate the execution of the innermost loop.\n",
    "\n",
    ". When break is encountered inside a loop, the loop immediately terminates,and the program execution     continues with the next statement following the loop.\n",
    "\n",
    "continue Statement:\n",
    "\n",
    ". The continue statement is used to skip the rest of the code inside a loop for the current iteration only, and to proceed to the next iteration of the loop."
   ]
  },
  {
   "cell_type": "markdown",
   "id": "a2915513-6334-4975-8bfd-792a3b1a3e5f",
   "metadata": {},
   "source": [
    "11. In a for loop, what is the difference between range(10), range(0, 10), and range(0, 10, 1)?"
   ]
  },
  {
   "cell_type": "markdown",
   "id": "d00ca82b-0390-4678-8f16-7142e1b016c4",
   "metadata": {},
   "source": [
    "There is no diffrence between : range(10), range(0,10), range(0,10,1)\n",
    "All these three condition are same and output of these conditions are also same. "
   ]
  },
  {
   "cell_type": "markdown",
   "id": "397c6eb2-197e-47b4-b4e5-71dbda27ec62",
   "metadata": {},
   "source": [
    "12. Write a short program that prints the numbers 1 to 10 using a for loop. Then write an equivalent\n",
    "program that prints the numbers 1 to 10 using a while loop."
   ]
  },
  {
   "cell_type": "code",
   "execution_count": 32,
   "id": "ec38332b-79c8-4807-a97a-72b4c2dd47f4",
   "metadata": {},
   "outputs": [
    {
     "name": "stdout",
     "output_type": "stream",
     "text": [
      "1\n",
      "2\n",
      "3\n",
      "4\n",
      "5\n",
      "6\n",
      "7\n",
      "8\n",
      "9\n",
      "10\n",
      "1\n",
      "2\n",
      "3\n",
      "4\n",
      "5\n",
      "6\n",
      "7\n",
      "8\n",
      "9\n",
      "10\n"
     ]
    }
   ],
   "source": [
    "#FOR LOOP\n",
    "\n",
    "for i in range (1,11):\n",
    "    print(i)\n",
    "    \n",
    "#WHILE LOOP\n",
    "\n",
    "i = 1\n",
    "while i < 11:\n",
    "    print(i)\n",
    "    i+=1"
   ]
  },
  {
   "cell_type": "markdown",
   "id": "53c762dd-2532-4043-a8c1-f98569675a4f",
   "metadata": {},
   "source": [
    "13. If you had a function named bacon() inside a module named spam, how would you call it after\n",
    "importing spam?"
   ]
  },
  {
   "cell_type": "markdown",
   "id": "5b637069-c4b0-4e83-bc3c-fd8296cead8e",
   "metadata": {},
   "source": [
    "Once the module spam is imported, i can call the bacon() function using the dot notation (spam.bacon())."
   ]
  }
 ],
 "metadata": {
  "kernelspec": {
   "display_name": "Python 3 (ipykernel)",
   "language": "python",
   "name": "python3"
  },
  "language_info": {
   "codemirror_mode": {
    "name": "ipython",
    "version": 3
   },
   "file_extension": ".py",
   "mimetype": "text/x-python",
   "name": "python",
   "nbconvert_exporter": "python",
   "pygments_lexer": "ipython3",
   "version": "3.11.7"
  }
 },
 "nbformat": 4,
 "nbformat_minor": 5
}
