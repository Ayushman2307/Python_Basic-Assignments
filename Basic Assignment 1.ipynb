{
 "cells": [
  {
   "cell_type": "markdown",
   "id": "99a781eb-bfda-47db-be9e-050490f540a5",
   "metadata": {},
   "source": [
    "1. In the below elements which of them are values or an expression? eg:- values can be\n",
    "integer or string and expressions will be mathematical operators."
   ]
  },
  {
   "cell_type": "code",
   "execution_count": null,
   "id": "3ed20ee5-6565-41dc-8704-7180c55b58a3",
   "metadata": {},
   "outputs": [],
   "source": [
    "*\n",
    "\"hello\"\n",
    "-87.8\n",
    "-\n",
    "/\n",
    "+\n",
    "6\n",
    "\n",
    "Values = (\"hello\" , -87.8 , 6)\n",
    "Expressions = (* , - , / , +)"
   ]
  },
  {
   "cell_type": "markdown",
   "id": "c56b9c0b-a83f-4337-9e53-403f45ee418f",
   "metadata": {},
   "source": [
    "2. What is the difference between string and variable?"
   ]
  },
  {
   "cell_type": "markdown",
   "id": "dcaa97d0-4673-4343-b38f-316e828a1dc5",
   "metadata": {},
   "source": [
    "VARIABLE\n",
    "Variables is a container which store a value. Variable is a name given to a memory location in a program.\n",
    "Ex: a = 30 , b=\"Shanu\" ,  here a and b are variables.\n",
    "\n",
    "STRING\n",
    "String is a data type in python. String is sequence of character enclosed in quotes."
   ]
  },
  {
   "cell_type": "markdown",
   "id": "10573c48-aa26-4ba2-a99c-cdbf49eef26d",
   "metadata": {},
   "source": [
    "3. Describe three different data types."
   ]
  },
  {
   "cell_type": "markdown",
   "id": "a35c4546-051d-401d-a739-0efe9ef29d87",
   "metadata": {},
   "source": [
    "1.Integer (int):\n",
    "    An integer is a whole number, positive or negative, without any decimal point.\n",
    "    Example: 10, -5, 0.\n",
    "        \n",
    "2.Float (float):\n",
    "    A float (floating-point number) is a number that has a decimal point.\n",
    "    Example: 3.14, -0.001, 2.0.\n",
    "\n",
    "String (str):\n",
    "    A string is a sequence of characters enclosed in either single quotes (') or double quotes (\").\n",
    "    Example: \"Hello, World!\", 'Python', \"123\"."
   ]
  },
  {
   "cell_type": "markdown",
   "id": "adf8115d-eaed-4c46-bd29-f7e67ae97f1d",
   "metadata": {},
   "source": [
    "4. What is an expression made up of? What do all expressions do?"
   ]
  },
  {
   "cell_type": "markdown",
   "id": "858b4cb3-06eb-4f15-80cf-cd98b57fcbe2",
   "metadata": {},
   "source": [
    "✱   An expression in programming is made up of one or more operands and operators that combine to produce a value.\n",
    "     Here’s a breakdown of its components:\n",
    "\n",
    "1.Operands:\n",
    "\n",
    "✺   These are the values or variables involved in the expression.\n",
    "     Examples include numbers (5, 3.14), strings (\"hello\"), variables (x, y),\n",
    "     or even more complex data structures like lists or dictionaries.\n",
    "\n",
    "2.Operators:\n",
    "\n",
    "✺    Operators specify the type of operation that is performed on the operands.\n",
    "     Examples include arithmetic operators (+, -, *, /),\n",
    "     comparison operators (<, >, ==, !=),\n",
    "     logical operators (and, or, not),\n",
    "     assignment operators (=, +=, -=), and more.\n",
    "\n",
    "3.Functions and Methods:\n",
    "\n",
    "✺    Expressions can also include function calls or method invocations that return values.\n",
    "     For example, len(\"hello\") is an expression that calls the len function on the string \"hello\".\n",
    "     Expressions can be simple, such as 5 + 3, or complex,\n",
    "     involving multiple operations and function calls like 2 * (x + y) / (z - 1).\n",
    "\n",
    "✱   What do all expressions do?\n",
    "\n",
    "✺    Expressions in programming languages serve several purposes:\n",
    "    \n",
    "✺    Evaluate to a Value: Every expression, when evaluated, results in a single value.\n",
    "     This value can be of various types (integer, float, string, etc.) depending on the operands and operators involved.\n",
    "    \n",
    "✺    Perform Operations: Expressions can perform a wide range of operations,\n",
    "     from basic arithmetic calculations to more complex manipulations of data and control flow.\n",
    "    \n",
    "✺    Create and Modify Data: Expressions can be used to create new data structures,\n",
    "      modify existing data, or transform data in meaningful ways.\n",
    "    \n",
    "✺   Control Program Execution: Expressions are essential in decision-making processes (e.g., conditional expressions)\n",
    "     and in loop constructs (e.g., iteration conditions)."
   ]
  },
  {
   "cell_type": "markdown",
   "id": "cb7f82a6-1e3f-4d68-85ee-428c4a2bd609",
   "metadata": {},
   "source": [
    "5. This assignment statements, like spam = 10. What is the difference between an\n",
    "expression and a statement?"
   ]
  },
  {
   "cell_type": "markdown",
   "id": "31d9e65e-67fb-470b-b98d-cb481592cd30",
   "metadata": {},
   "source": [
    "1. Expression:\n",
    "\n",
    "An expression is a combination of values, variables, operators, and function calls that evaluates to a value.\n",
    "\n",
    "2. Statement:\n",
    "\n",
    "A statement is a complete unit of execution that does something. It doesn't necessarily have to result in a value.\n",
    "\n",
    "\n",
    "Differences:\n",
    "\n",
    "1. Expression:\n",
    ". Evaluates to a value.\n",
    ". Examples include mathematical operations, function calls, etc.\n",
    ". Always returns a value and usually doesn't cause side effects.\n",
    "\n",
    "2. Statement:\n",
    ". Executes a command.\n",
    ". Examples include assignments, loops, conditionals, etc.\n",
    ". May not return a value (or may return None), and it often causes side effects (like modifying variables or producing output)."
   ]
  },
  {
   "cell_type": "markdown",
   "id": "755f0695-3344-4e16-b5ec-ca0e0f6a9ea5",
   "metadata": {},
   "source": [
    "6. After running the following code, what does the variable bacon contain?"
   ]
  },
  {
   "cell_type": "code",
   "execution_count": 2,
   "id": "20cb0d3f-92d5-4ead-aca4-c32962fa5da5",
   "metadata": {},
   "outputs": [
    {
     "name": "stdout",
     "output_type": "stream",
     "text": [
      "22\n"
     ]
    }
   ],
   "source": [
    "bacon = 22\n",
    "bacon + 1\n",
    "\n",
    "print(bacon) #Variable bacon contain 22"
   ]
  },
  {
   "cell_type": "markdown",
   "id": "13e16af8-a575-4e9e-b81f-974890324fac",
   "metadata": {},
   "source": [
    "7. What should the values of the following two terms be?\n",
    "&#39;spam&#39; + &#39;spamspam&#39;\n",
    "  \n",
    "&#39;spam&#39; * 3"
   ]
  },
  {
   "cell_type": "code",
   "execution_count": 5,
   "id": "6ff537fa-e264-4b02-b51d-49a855ab8911",
   "metadata": {},
   "outputs": [
    {
     "name": "stdout",
     "output_type": "stream",
     "text": [
      "spamspamspam\n",
      "spamspamspam\n"
     ]
    }
   ],
   "source": [
    "s1=\"spam\" + \"spamspam\"\n",
    "\n",
    "s2=\"spam\"*3\n",
    "                    #Values of both terms are same or equal : spamspamspam\n",
    "print(s1)\n",
    "print(s2)"
   ]
  },
  {
   "cell_type": "markdown",
   "id": "6596c4d7-2473-4fa5-891d-02f79c31d9af",
   "metadata": {},
   "source": [
    "8. Why is eggs a valid variable name while 100 is invalid?"
   ]
  },
  {
   "cell_type": "markdown",
   "id": "64d4dcbd-7793-4261-9e27-74e6dd658a14",
   "metadata": {},
   "source": [
    "According to Python naming rules, A variable name cannot start with a digit. It must start with a letter or an underscore.\n",
    "Therefore, 100 is considered an invalid variable name in Python."
   ]
  },
  {
   "cell_type": "markdown",
   "id": "aed6a86f-349f-4210-a997-b5972f7ec77c",
   "metadata": {},
   "source": [
    "9. What three functions can be used to get the integer, floating-point number, or string\n",
    "version of a value?"
   ]
  },
  {
   "cell_type": "markdown",
   "id": "42405b40-8043-42c7-9693-c4a5b885a6f0",
   "metadata": {},
   "source": [
    "We can get any type of values in the form of integer , float and string like,\n",
    "\n",
    "In integer we use , int(value)  function for change the value into a integer.\n",
    "\n",
    "In float we use , float(value)  function for change the value into a floating-point number.\n",
    "\n",
    "In string we use , str(value)  function for change the value into a string."
   ]
  },
  {
   "cell_type": "markdown",
   "id": "bf47beab-af60-4e0d-a4e7-fb4f58556f06",
   "metadata": {},
   "source": [
    "10. Why does this expression cause an error? How can you fix it?\n",
    "    \n",
    "&#39;I have eaten &#39; + 99 + &#39; burritos.&#39;"
   ]
  },
  {
   "cell_type": "code",
   "execution_count": 12,
   "id": "2d168313-e1a7-4c30-a52f-02c0c7d7a672",
   "metadata": {},
   "outputs": [
    {
     "data": {
      "text/plain": [
       "'I have eaten99burritos'"
      ]
     },
     "execution_count": 12,
     "metadata": {},
     "output_type": "execute_result"
    }
   ],
   "source": [
    "'''I have eaten' + 99 + 'burritos'''    # THIS EXPRESSION CAUSE AN ERROR BECAUSE HERE WE CONCATENATE STRINGS AND INTEGER.\n",
    "'I have eaten'+'99'+'burritos'      # WE SIMPLY CHANGE THE INTEGER INTO A STRING TO FIX THIS EXPRESSION ERROR."
   ]
  },
  {
   "cell_type": "code",
   "execution_count": null,
   "id": "e70412b6-c597-4f6d-bc2e-fba2acab65f1",
   "metadata": {},
   "outputs": [],
   "source": []
  }
 ],
 "metadata": {
  "kernelspec": {
   "display_name": "Python 3 (ipykernel)",
   "language": "python",
   "name": "python3"
  },
  "language_info": {
   "codemirror_mode": {
    "name": "ipython",
    "version": 3
   },
   "file_extension": ".py",
   "mimetype": "text/x-python",
   "name": "python",
   "nbconvert_exporter": "python",
   "pygments_lexer": "ipython3",
   "version": "3.11.7"
  }
 },
 "nbformat": 4,
 "nbformat_minor": 5
}
